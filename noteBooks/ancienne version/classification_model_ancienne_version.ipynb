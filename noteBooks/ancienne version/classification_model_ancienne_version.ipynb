{
  "nbformat": 4,
  "nbformat_minor": 0,
  "metadata": {
    "colab": {
      "name": "modele.ipynb",
      "provenance": [],
      "collapsed_sections": []
    },
    "kernelspec": {
      "name": "python3",
      "display_name": "Python 3"
    },
    "language_info": {
      "name": "python"
    },
    "accelerator": "GPU"
  },
  "cells": [
    {
      "cell_type": "code",
      "metadata": {
        "id": "RE0-4hnJDMPV"
      },
      "source": [
        "import numpy as np\n",
        "import pandas as pd \n",
        "import matplotlib.pyplot as plt\n",
        "%matplotlib inline\n",
        "import keras\n",
        "\n",
        "from keras import utils as np_utils\n",
        "from keras.utils.np_utils import to_categorical\n",
        "from keras.models import Sequential\n",
        "from keras.layers import Conv2D, MaxPooling2D, Flatten, Dense, Dropout, BatchNormalization\n",
        "from keras.datasets import fashion_mnist"
      ],
      "execution_count": 1,
      "outputs": []
    },
    {
      "cell_type": "code",
      "metadata": {
        "id": "wqIQ6CXjDjrl",
        "colab": {
          "base_uri": "https://localhost:8080/"
        },
        "outputId": "011612fa-f249-40a6-8574-5145f9531768"
      },
      "source": [
        "(x_train, y_train), (x_test, y_test) = fashion_mnist.load_data()"
      ],
      "execution_count": 2,
      "outputs": [
        {
          "output_type": "stream",
          "text": [
            "Downloading data from https://storage.googleapis.com/tensorflow/tf-keras-datasets/train-labels-idx1-ubyte.gz\n",
            "32768/29515 [=================================] - 0s 0us/step\n",
            "Downloading data from https://storage.googleapis.com/tensorflow/tf-keras-datasets/train-images-idx3-ubyte.gz\n",
            "26427392/26421880 [==============================] - 1s 0us/step\n",
            "Downloading data from https://storage.googleapis.com/tensorflow/tf-keras-datasets/t10k-labels-idx1-ubyte.gz\n",
            "8192/5148 [===============================================] - 0s 0us/step\n",
            "Downloading data from https://storage.googleapis.com/tensorflow/tf-keras-datasets/t10k-images-idx3-ubyte.gz\n",
            "4423680/4422102 [==============================] - 0s 0us/step\n"
          ],
          "name": "stdout"
        }
      ]
    },
    {
      "cell_type": "code",
      "metadata": {
        "colab": {
          "base_uri": "https://localhost:8080/",
          "height": 149
        },
        "id": "NritxkDFKkFt",
        "outputId": "1d0333d2-67cf-41cd-ee84-e5a061ab84bf"
      },
      "source": [
        "# Plotting 5 images, Subplot arugments represent nrows, ncols and index\n",
        "# Color map is set to grey since our image dataset is grayscale\n",
        "plt.subplot(231)\n",
        "random_num = np.random.randint(0,len(x_train))\n",
        "plt.imshow(x_train[random_num], cmap=plt.get_cmap('gray'))\n",
        "\n",
        "plt.subplot(232)\n",
        "random_num = np.random.randint(0,len(x_train))\n",
        "plt.imshow(x_train[random_num], cmap=plt.get_cmap('gray'))\n",
        "\n",
        "plt.subplot(233)\n",
        "random_num = np.random.randint(0,len(x_train))\n",
        "plt.imshow(x_train[random_num], cmap=plt.get_cmap('gray'))\n",
        "\n",
        "plt.show()"
      ],
      "execution_count": 4,
      "outputs": [
        {
          "output_type": "display_data",
          "data": {
            "image/png": "[encoded data removed]",
            "text/plain": [
              "<Figure size 432x288 with 3 Axes>"
            ]
          },
          "metadata": {
            "tags": [],
            "needs_background": "light"
          }
        }
      ]
    },
    {
      "cell_type": "code",
      "metadata": {
        "id": "uynTie22LaeQ"
      },
      "source": [
        "taille_training_set = x_train.shape[0]\n",
        "taille_test_set = x_test.shape[0]\n",
        "\n",
        "# Storing the number of rows and columns\n",
        "img_rows = x_train[0].shape[0]\n",
        "img_cols = x_train[1].shape[0]\n",
        "\n",
        "#Test data\n",
        "x_train = x_train.reshape(x_train.shape[0], img_rows, img_cols, 1)\n",
        "x_test = x_test.reshape(x_test.shape[0], img_rows, img_cols, 1)\n",
        "\n",
        "# Normalize the data\n",
        "x_train = x_train / 255.0\n",
        "x_test = x_test / 255.0\n",
        "\n",
        "# Performing one hot encoding\n",
        "y_train = np_utils.to_categorical(y_train)\n",
        "y_test = np_utils.to_categorical(y_test)"
      ],
      "execution_count": 5,
      "outputs": []
    },
    {
      "cell_type": "code",
      "metadata": {
        "id": "sRCZX0kVWcNl"
      },
      "source": [
        "# Set the CNN model\n",
        "#initialisation du réseau de neurone\n",
        "classifier = Sequential()\n",
        "\n",
        "# Step 1 and 2 - Convolution / Pooling\n",
        "classifier.add(Conv2D(filters=64, kernel_size=7, strides=1, activation = 'relu'))\n",
        "classifier.add(MaxPooling2D(pool_size = (2, 2),strides=(2,2)))\n",
        "classifier.add(Dropout(0.25))\n",
        "\n",
        "# Step 3 - Flattening\n",
        "classifier.add(Flatten())\n",
        "\n",
        "# Step 4 - Full connection -couche connecté\n",
        "classifier.add(Dense(units = 256, activation = 'relu'))\n",
        "classifier.add(Dropout(0.5))\n",
        "\n",
        "# Couche de sortie\n",
        "classifier.add(Dense(units = 10, activation = 'softmax'))"
      ],
      "execution_count": 6,
      "outputs": []
    },
    {
      "cell_type": "code",
      "metadata": {
        "id": "BGfMRDnxXIMr"
      },
      "source": [
        "classifier.compile(optimizer = 'adam', loss = 'categorical_crossentropy', metrics = ['accuracy'])"
      ],
      "execution_count": 7,
      "outputs": []
    },
    {
      "cell_type": "code",
      "metadata": {
        "colab": {
          "base_uri": "https://localhost:8080/"
        },
        "id": "co-4QTGvXPgP",
        "outputId": "ef424150-75ea-423d-f869-7802dcaf2a8d"
      },
      "source": [
        "history = classifier.fit(x_train, y_train,\n",
        "          batch_size=86,\n",
        "          epochs=50,\n",
        "          verbose=1,\n",
        "          validation_data=(x_test, y_test))"
      ],
      "execution_count": 8,
      "outputs": [
        {
          "output_type": "stream",
          "text": [
            "Epoch 1/50\n",
            "698/698 [==============================] - 35s 6ms/step - loss: 0.6846 - accuracy: 0.7566 - val_loss: 0.3595 - val_accuracy: 0.8661\n",
            "Epoch 2/50\n",
            "698/698 [==============================] - 4s 6ms/step - loss: 0.3582 - accuracy: 0.8710 - val_loss: 0.3164 - val_accuracy: 0.8833\n",
            "Epoch 3/50\n",
            "698/698 [==============================] - 4s 6ms/step - loss: 0.3147 - accuracy: 0.8844 - val_loss: 0.2947 - val_accuracy: 0.8909\n",
            "Epoch 4/50\n",
            "698/698 [==============================] - 4s 6ms/step - loss: 0.2914 - accuracy: 0.8920 - val_loss: 0.2801 - val_accuracy: 0.8980\n",
            "Epoch 5/50\n",
            "698/698 [==============================] - 4s 6ms/step - loss: 0.2683 - accuracy: 0.9010 - val_loss: 0.2703 - val_accuracy: 0.8998\n",
            "Epoch 6/50\n",
            "698/698 [==============================] - 4s 6ms/step - loss: 0.2526 - accuracy: 0.9047 - val_loss: 0.2632 - val_accuracy: 0.9032\n",
            "Epoch 7/50\n",
            "698/698 [==============================] - 4s 6ms/step - loss: 0.2397 - accuracy: 0.9108 - val_loss: 0.2572 - val_accuracy: 0.9067\n",
            "Epoch 8/50\n",
            "698/698 [==============================] - 4s 6ms/step - loss: 0.2250 - accuracy: 0.9148 - val_loss: 0.2502 - val_accuracy: 0.9084\n",
            "Epoch 9/50\n",
            "698/698 [==============================] - 4s 6ms/step - loss: 0.2110 - accuracy: 0.9187 - val_loss: 0.2659 - val_accuracy: 0.9036\n",
            "Epoch 10/50\n",
            "698/698 [==============================] - 4s 6ms/step - loss: 0.2039 - accuracy: 0.9236 - val_loss: 0.2538 - val_accuracy: 0.9120\n",
            "Epoch 11/50\n",
            "698/698 [==============================] - 4s 6ms/step - loss: 0.1989 - accuracy: 0.9244 - val_loss: 0.2578 - val_accuracy: 0.9084\n",
            "Epoch 12/50\n",
            "698/698 [==============================] - 4s 6ms/step - loss: 0.1836 - accuracy: 0.9299 - val_loss: 0.2412 - val_accuracy: 0.9143\n",
            "Epoch 13/50\n",
            "698/698 [==============================] - 4s 6ms/step - loss: 0.1792 - accuracy: 0.9299 - val_loss: 0.2506 - val_accuracy: 0.9143\n",
            "Epoch 14/50\n",
            "698/698 [==============================] - 4s 6ms/step - loss: 0.1732 - accuracy: 0.9337 - val_loss: 0.2502 - val_accuracy: 0.9142\n",
            "Epoch 15/50\n",
            "698/698 [==============================] - 4s 6ms/step - loss: 0.1651 - accuracy: 0.9360 - val_loss: 0.2567 - val_accuracy: 0.9111\n",
            "Epoch 16/50\n",
            "698/698 [==============================] - 4s 6ms/step - loss: 0.1555 - accuracy: 0.9396 - val_loss: 0.2612 - val_accuracy: 0.9156\n",
            "Epoch 17/50\n",
            "698/698 [==============================] - 4s 6ms/step - loss: 0.1587 - accuracy: 0.9389 - val_loss: 0.2587 - val_accuracy: 0.9157\n",
            "Epoch 18/50\n",
            "698/698 [==============================] - 4s 6ms/step - loss: 0.1497 - accuracy: 0.9422 - val_loss: 0.2648 - val_accuracy: 0.9154\n",
            "Epoch 19/50\n",
            "698/698 [==============================] - 4s 6ms/step - loss: 0.1439 - accuracy: 0.9465 - val_loss: 0.2654 - val_accuracy: 0.9161\n",
            "Epoch 20/50\n",
            "698/698 [==============================] - 4s 6ms/step - loss: 0.1391 - accuracy: 0.9463 - val_loss: 0.2694 - val_accuracy: 0.9164\n",
            "Epoch 21/50\n",
            "698/698 [==============================] - 4s 6ms/step - loss: 0.1381 - accuracy: 0.9469 - val_loss: 0.2611 - val_accuracy: 0.9186\n",
            "Epoch 22/50\n",
            "698/698 [==============================] - 4s 6ms/step - loss: 0.1257 - accuracy: 0.9514 - val_loss: 0.2724 - val_accuracy: 0.9174\n",
            "Epoch 23/50\n",
            "698/698 [==============================] - 4s 6ms/step - loss: 0.1300 - accuracy: 0.9493 - val_loss: 0.2787 - val_accuracy: 0.9161\n",
            "Epoch 24/50\n",
            "698/698 [==============================] - 4s 6ms/step - loss: 0.1296 - accuracy: 0.9504 - val_loss: 0.2842 - val_accuracy: 0.9195\n",
            "Epoch 25/50\n",
            "698/698 [==============================] - 4s 6ms/step - loss: 0.1239 - accuracy: 0.9526 - val_loss: 0.2719 - val_accuracy: 0.9183\n",
            "Epoch 26/50\n",
            "698/698 [==============================] - 4s 6ms/step - loss: 0.1183 - accuracy: 0.9538 - val_loss: 0.2815 - val_accuracy: 0.9193\n",
            "Epoch 27/50\n",
            "698/698 [==============================] - 4s 6ms/step - loss: 0.1136 - accuracy: 0.9549 - val_loss: 0.2860 - val_accuracy: 0.9156\n",
            "Epoch 28/50\n",
            "698/698 [==============================] - 4s 6ms/step - loss: 0.1097 - accuracy: 0.9582 - val_loss: 0.2935 - val_accuracy: 0.9189\n",
            "Epoch 29/50\n",
            "698/698 [==============================] - 4s 6ms/step - loss: 0.1098 - accuracy: 0.9581 - val_loss: 0.3003 - val_accuracy: 0.9144\n",
            "Epoch 30/50\n",
            "698/698 [==============================] - 4s 6ms/step - loss: 0.1069 - accuracy: 0.9586 - val_loss: 0.2923 - val_accuracy: 0.9161\n",
            "Epoch 31/50\n",
            "698/698 [==============================] - 4s 6ms/step - loss: 0.1057 - accuracy: 0.9587 - val_loss: 0.3035 - val_accuracy: 0.9162\n",
            "Epoch 32/50\n",
            "698/698 [==============================] - 4s 6ms/step - loss: 0.1054 - accuracy: 0.9586 - val_loss: 0.3045 - val_accuracy: 0.9217\n",
            "Epoch 33/50\n",
            "698/698 [==============================] - 4s 6ms/step - loss: 0.1060 - accuracy: 0.9597 - val_loss: 0.3059 - val_accuracy: 0.9194\n",
            "Epoch 34/50\n",
            "698/698 [==============================] - 4s 6ms/step - loss: 0.1022 - accuracy: 0.9611 - val_loss: 0.3317 - val_accuracy: 0.9175\n",
            "Epoch 35/50\n",
            "698/698 [==============================] - 4s 6ms/step - loss: 0.1019 - accuracy: 0.9587 - val_loss: 0.3154 - val_accuracy: 0.9208\n",
            "Epoch 36/50\n",
            "698/698 [==============================] - 4s 6ms/step - loss: 0.0937 - accuracy: 0.9645 - val_loss: 0.3100 - val_accuracy: 0.9173\n",
            "Epoch 37/50\n",
            "698/698 [==============================] - 4s 6ms/step - loss: 0.0960 - accuracy: 0.9637 - val_loss: 0.3293 - val_accuracy: 0.9164\n",
            "Epoch 38/50\n",
            "698/698 [==============================] - 4s 6ms/step - loss: 0.0941 - accuracy: 0.9628 - val_loss: 0.3305 - val_accuracy: 0.9185\n",
            "Epoch 39/50\n",
            "698/698 [==============================] - 4s 6ms/step - loss: 0.0922 - accuracy: 0.9642 - val_loss: 0.3215 - val_accuracy: 0.9180\n",
            "Epoch 40/50\n",
            "698/698 [==============================] - 4s 6ms/step - loss: 0.0945 - accuracy: 0.9641 - val_loss: 0.3439 - val_accuracy: 0.9204\n",
            "Epoch 41/50\n",
            "698/698 [==============================] - 4s 6ms/step - loss: 0.0872 - accuracy: 0.9663 - val_loss: 0.3351 - val_accuracy: 0.9217\n",
            "Epoch 42/50\n",
            "698/698 [==============================] - 4s 6ms/step - loss: 0.0860 - accuracy: 0.9674 - val_loss: 0.3425 - val_accuracy: 0.9202\n",
            "Epoch 43/50\n",
            "698/698 [==============================] - 4s 6ms/step - loss: 0.0838 - accuracy: 0.9683 - val_loss: 0.3382 - val_accuracy: 0.9194\n",
            "Epoch 44/50\n",
            "698/698 [==============================] - 4s 6ms/step - loss: 0.0826 - accuracy: 0.9694 - val_loss: 0.3641 - val_accuracy: 0.9182\n",
            "Epoch 45/50\n",
            "698/698 [==============================] - 4s 6ms/step - loss: 0.0824 - accuracy: 0.9686 - val_loss: 0.3495 - val_accuracy: 0.9198\n",
            "Epoch 46/50\n",
            "698/698 [==============================] - 4s 6ms/step - loss: 0.0828 - accuracy: 0.9686 - val_loss: 0.3493 - val_accuracy: 0.9195\n",
            "Epoch 47/50\n",
            "698/698 [==============================] - 4s 6ms/step - loss: 0.0823 - accuracy: 0.9682 - val_loss: 0.3562 - val_accuracy: 0.9201\n",
            "Epoch 48/50\n",
            "698/698 [==============================] - 4s 6ms/step - loss: 0.0783 - accuracy: 0.9690 - val_loss: 0.3683 - val_accuracy: 0.9235\n",
            "Epoch 49/50\n",
            "698/698 [==============================] - 4s 6ms/step - loss: 0.0790 - accuracy: 0.9702 - val_loss: 0.3692 - val_accuracy: 0.9198\n",
            "Epoch 50/50\n",
            "698/698 [==============================] - 4s 6ms/step - loss: 0.0791 - accuracy: 0.9686 - val_loss: 0.3795 - val_accuracy: 0.9209\n"
          ],
          "name": "stdout"
        }
      ]
    },
    {
      "cell_type": "code",
      "metadata": {
        "colab": {
          "base_uri": "https://localhost:8080/"
        },
        "id": "Jc7lrZQlbznK",
        "outputId": "ae373e86-1fdf-4600-f53f-4adacb462dfb"
      },
      "source": [
        "loss, acc = classifier.evaluate(x_test, y_test, verbose=0)\n",
        "fiabiliter=acc*100\n",
        "print('La fiabilité du model sur les données de test est de :',fiabiliter,\" %\")"
      ],
      "execution_count": 13,
      "outputs": [
        {
          "output_type": "stream",
          "text": [
            "La fiabilité du model sur les données de test est de : 92.08999872207642  %\n"
          ],
          "name": "stdout"
        }
      ]
    },
    {
      "cell_type": "code",
      "metadata": {
        "colab": {
          "base_uri": "https://localhost:8080/"
        },
        "id": "mFs_yU-TbFB2",
        "outputId": "1a0ea0ac-9828-4e5d-9fc1-bbb5e26d5daa"
      },
      "source": [
        "import os\n",
        "os.listdir(\"./\")\n",
        "os.listdir(\"./drive/MyDrive/LIFPROJET\")"
      ],
      "execution_count": 26,
      "outputs": [
        {
          "output_type": "execute_result",
          "data": {
            "text/plain": [
              "['static', 'templates']"
            ]
          },
          "metadata": {
            "tags": []
          },
          "execution_count": 26
        }
      ]
    },
    {
      "cell_type": "code",
      "metadata": {
        "id": "-rSDFw_Iccfr"
      },
      "source": [
        "classifier.save('./drive/MyDrive/LIFPROJET/classification_model.h5')"
      ],
      "execution_count": 28,
      "outputs": []
    }
  ]
}
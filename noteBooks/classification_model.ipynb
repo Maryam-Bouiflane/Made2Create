{
  "nbformat": 4,
  "nbformat_minor": 5,
  "metadata": {
    "kernelspec": {
      "display_name": "Python 3",
      "language": "python",
      "name": "python3"
    },
    "language_info": {
      "codemirror_mode": {
        "name": "ipython",
        "version": 3
      },
      "file_extension": ".py",
      "mimetype": "text/x-python",
      "name": "python",
      "nbconvert_exporter": "python",
      "pygments_lexer": "ipython3",
      "version": "3.8.8"
    },
    "colab": {
      "name": "classification_model.ipynb",
      "provenance": [],
      "collapsed_sections": []
    }
  },
  "cells": [
    {
      "cell_type": "code",
      "metadata": {
        "id": "f78bfa4d"
      },
      "source": [
        "import numpy as np\n",
        "from sklearn.metrics import confusion_matrix,classification_report, accuracy_score\n",
        "import matplotlib.pyplot as plt\n",
        "import keras\n",
        "from keras.utils import np_utils\n",
        "from keras.models import Sequential, load_model\n",
        "from keras.layers import Dense, Dropout, Flatten, Conv2D, MaxPooling2D, BatchNormalization\n",
        "from keras import backend as K\n",
        "from keras.preprocessing.image import ImageDataGenerator, load_img, img_to_array\n",
        "from keras.callbacks import ReduceLROnPlateau"
      ],
      "id": "f78bfa4d",
      "execution_count": null,
      "outputs": []
    },
    {
      "cell_type": "code",
      "metadata": {
        "id": "1fe8f044"
      },
      "source": [
        "#load the data set\n",
        "fashion_mnist = keras.datasets.fashion_mnist\n",
        "\n",
        "#Split the data\n",
        "(x_train, y_train), (x_test, y_test) = fashion_mnist.load_data()\n",
        "\n",
        "#name of images\n",
        "class_names = ['T-shirt', 'trousers', 'pullover', 'dress', 'coat',\n",
        "               'sandal', 'shirt', 'sneaker', 'bag', 'ankle boot']\n",
        "\n",
        "# reshaping\n",
        "x_train = x_train.reshape(x_train.shape[0], 28, 28, 1)\n",
        "x_test = x_test.reshape(x_test.shape[0], 28, 28, 1)\n",
        "# Normalize the data\n",
        "x_train = x_train / 255.0\n",
        "x_test = x_test / 255.0\n",
        "\n",
        "# Performing one hot encoding\n",
        "y_train = np_utils.to_categorical(y_train)\n",
        "y_test = np_utils.to_categorical(y_test)"
      ],
      "id": "1fe8f044",
      "execution_count": null,
      "outputs": []
    },
    {
      "cell_type": "code",
      "metadata": {
        "scrolled": true,
        "id": "a99013db"
      },
      "source": [
        "classifier = Sequential()\n",
        "\n",
        "classifier.add(Conv2D(filters=64, kernel_size=2, padding='same', activation='relu', input_shape=(28,28,1))) \n",
        "classifier.add(MaxPooling2D(pool_size=2))\n",
        "classifier.add(Dropout(0.3))\n",
        "\n",
        "classifier.add(Flatten())\n",
        "classifier.add(Dense(256, activation='relu'))\n",
        "classifier.add(Dropout(0.5))\n",
        "classifier.add(Dense(10, activation='softmax'))\n",
        "classifier.compile(optimizer = 'adam', loss = 'categorical_crossentropy', metrics = ['accuracy'])"
      ],
      "id": "a99013db",
      "execution_count": null,
      "outputs": []
    },
    {
      "cell_type": "code",
      "metadata": {
        "id": "3ab35cef",
        "outputId": "518aa706-3bcc-4ef2-f3fb-5db30447fde9"
      },
      "source": [
        "# Fit the model\n",
        "history = classifier.fit(x_train, y_train,\n",
        "          batch_size=86,\n",
        "          epochs=100,\n",
        "          verbose=1,\n",
        "          validation_data=(x_test, y_test))"
      ],
      "id": "3ab35cef",
      "execution_count": null,
      "outputs": [
        {
          "output_type": "stream",
          "text": [
            "Epoch 1/100\n",
            "698/698 [==============================] - 71s 102ms/step - loss: 0.4878 - accuracy: 0.8274 - val_loss: 0.3406 - val_accuracy: 0.8761\n",
            "Epoch 2/100\n",
            "698/698 [==============================] - 55s 79ms/step - loss: 0.3334 - accuracy: 0.8800 - val_loss: 0.2946 - val_accuracy: 0.8927\n",
            "Epoch 3/100\n",
            "698/698 [==============================] - 59s 84ms/step - loss: 0.2955 - accuracy: 0.8932 - val_loss: 0.2784 - val_accuracy: 0.8977\n",
            "Epoch 4/100\n",
            "698/698 [==============================] - 63s 90ms/step - loss: 0.2737 - accuracy: 0.8994 - val_loss: 0.2671 - val_accuracy: 0.9012\n",
            "Epoch 5/100\n",
            "698/698 [==============================] - 58s 84ms/step - loss: 0.2523 - accuracy: 0.9077 - val_loss: 0.2623 - val_accuracy: 0.9037\n",
            "Epoch 6/100\n",
            "698/698 [==============================] - 59s 85ms/step - loss: 0.2384 - accuracy: 0.9126 - val_loss: 0.2661 - val_accuracy: 0.9035\n",
            "Epoch 7/100\n",
            "698/698 [==============================] - 57s 81ms/step - loss: 0.2277 - accuracy: 0.9156 - val_loss: 0.2481 - val_accuracy: 0.9096\n",
            "Epoch 8/100\n",
            "698/698 [==============================] - 61s 87ms/step - loss: 0.2164 - accuracy: 0.9196 - val_loss: 0.2485 - val_accuracy: 0.9098\n",
            "Epoch 9/100\n",
            "698/698 [==============================] - 60s 86ms/step - loss: 0.2071 - accuracy: 0.9229 - val_loss: 0.2402 - val_accuracy: 0.9125\n",
            "Epoch 10/100\n",
            "698/698 [==============================] - 58s 83ms/step - loss: 0.1979 - accuracy: 0.9276 - val_loss: 0.2430 - val_accuracy: 0.9129\n",
            "Epoch 11/100\n",
            "698/698 [==============================] - 58s 83ms/step - loss: 0.1890 - accuracy: 0.9294 - val_loss: 0.2512 - val_accuracy: 0.9114\n",
            "Epoch 12/100\n",
            "698/698 [==============================] - 58s 84ms/step - loss: 0.1816 - accuracy: 0.9319 - val_loss: 0.2410 - val_accuracy: 0.9158\n",
            "Epoch 13/100\n",
            "698/698 [==============================] - 58s 84ms/step - loss: 0.1787 - accuracy: 0.9329 - val_loss: 0.2396 - val_accuracy: 0.9162\n",
            "Epoch 14/100\n",
            "698/698 [==============================] - 58s 83ms/step - loss: 0.1704 - accuracy: 0.9367 - val_loss: 0.2439 - val_accuracy: 0.9161\n",
            "Epoch 15/100\n",
            "698/698 [==============================] - 55s 79ms/step - loss: 0.1649 - accuracy: 0.9387 - val_loss: 0.2382 - val_accuracy: 0.9164\n",
            "Epoch 16/100\n",
            "698/698 [==============================] - 53s 76ms/step - loss: 0.1575 - accuracy: 0.9410 - val_loss: 0.2376 - val_accuracy: 0.9203\n",
            "Epoch 17/100\n",
            "698/698 [==============================] - 53s 76ms/step - loss: 0.1539 - accuracy: 0.9420 - val_loss: 0.2437 - val_accuracy: 0.9168\n",
            "Epoch 18/100\n",
            "698/698 [==============================] - 53s 76ms/step - loss: 0.1484 - accuracy: 0.9447 - val_loss: 0.2406 - val_accuracy: 0.9180\n",
            "Epoch 19/100\n",
            "698/698 [==============================] - 55s 79ms/step - loss: 0.1437 - accuracy: 0.9459 - val_loss: 0.2476 - val_accuracy: 0.9198\n",
            "Epoch 20/100\n",
            "698/698 [==============================] - 60s 86ms/step - loss: 0.1400 - accuracy: 0.9470 - val_loss: 0.2431 - val_accuracy: 0.9198\n",
            "Epoch 21/100\n",
            "698/698 [==============================] - 56s 80ms/step - loss: 0.1368 - accuracy: 0.9480 - val_loss: 0.2475 - val_accuracy: 0.9211\n",
            "Epoch 22/100\n",
            "698/698 [==============================] - 56s 80ms/step - loss: 0.1320 - accuracy: 0.9503 - val_loss: 0.2501 - val_accuracy: 0.9199\n",
            "Epoch 23/100\n",
            "698/698 [==============================] - 59s 84ms/step - loss: 0.1307 - accuracy: 0.9512 - val_loss: 0.2547 - val_accuracy: 0.9200\n",
            "Epoch 24/100\n",
            "698/698 [==============================] - 61s 87ms/step - loss: 0.1269 - accuracy: 0.9518 - val_loss: 0.2613 - val_accuracy: 0.9197\n",
            "Epoch 25/100\n",
            "698/698 [==============================] - 58s 83ms/step - loss: 0.1233 - accuracy: 0.9538 - val_loss: 0.2651 - val_accuracy: 0.9196\n",
            "Epoch 26/100\n",
            "698/698 [==============================] - 58s 82ms/step - loss: 0.1189 - accuracy: 0.9546 - val_loss: 0.2632 - val_accuracy: 0.9193\n",
            "Epoch 27/100\n",
            "698/698 [==============================] - 63s 90ms/step - loss: 0.1197 - accuracy: 0.9546 - val_loss: 0.2628 - val_accuracy: 0.9205\n",
            "Epoch 28/100\n",
            "698/698 [==============================] - 59s 85ms/step - loss: 0.1128 - accuracy: 0.9562 - val_loss: 0.2657 - val_accuracy: 0.9232\n",
            "Epoch 29/100\n",
            "698/698 [==============================] - 56s 81ms/step - loss: 0.1093 - accuracy: 0.9592 - val_loss: 0.2637 - val_accuracy: 0.9211\n",
            "Epoch 30/100\n",
            "698/698 [==============================] - 53s 77ms/step - loss: 0.1087 - accuracy: 0.9584 - val_loss: 0.2745 - val_accuracy: 0.9213\n",
            "Epoch 31/100\n",
            "698/698 [==============================] - 55s 79ms/step - loss: 0.1070 - accuracy: 0.9589 - val_loss: 0.2709 - val_accuracy: 0.9220\n",
            "Epoch 32/100\n",
            "698/698 [==============================] - 55s 79ms/step - loss: 0.1037 - accuracy: 0.9603 - val_loss: 0.2903 - val_accuracy: 0.9219\n",
            "Epoch 33/100\n",
            "698/698 [==============================] - 57s 82ms/step - loss: 0.1013 - accuracy: 0.9608 - val_loss: 0.2791 - val_accuracy: 0.9244\n",
            "Epoch 34/100\n",
            "698/698 [==============================] - 64s 91ms/step - loss: 0.0978 - accuracy: 0.9632 - val_loss: 0.2890 - val_accuracy: 0.9220\n",
            "Epoch 35/100\n",
            "698/698 [==============================] - 65s 93ms/step - loss: 0.1001 - accuracy: 0.9619 - val_loss: 0.2840 - val_accuracy: 0.9228\n",
            "Epoch 36/100\n",
            "698/698 [==============================] - 59s 85ms/step - loss: 0.0964 - accuracy: 0.9632 - val_loss: 0.2877 - val_accuracy: 0.9215\n",
            "Epoch 37/100\n",
            "698/698 [==============================] - 56s 80ms/step - loss: 0.0954 - accuracy: 0.9646 - val_loss: 0.2830 - val_accuracy: 0.9230\n",
            "Epoch 38/100\n",
            "698/698 [==============================] - 54s 77ms/step - loss: 0.0932 - accuracy: 0.9637 - val_loss: 0.2902 - val_accuracy: 0.9218\n",
            "Epoch 39/100\n",
            "698/698 [==============================] - 53s 76ms/step - loss: 0.0909 - accuracy: 0.9655 - val_loss: 0.2917 - val_accuracy: 0.9239\n",
            "Epoch 40/100\n",
            "698/698 [==============================] - 53s 77ms/step - loss: 0.0906 - accuracy: 0.9654 - val_loss: 0.2935 - val_accuracy: 0.9228\n",
            "Epoch 41/100\n",
            "698/698 [==============================] - 55s 79ms/step - loss: 0.0887 - accuracy: 0.9661 - val_loss: 0.2975 - val_accuracy: 0.9224\n",
            "Epoch 42/100\n",
            "698/698 [==============================] - 55s 79ms/step - loss: 0.0884 - accuracy: 0.9669 - val_loss: 0.3003 - val_accuracy: 0.9235\n",
            "Epoch 43/100\n",
            "698/698 [==============================] - 55s 78ms/step - loss: 0.0856 - accuracy: 0.9670 - val_loss: 0.3014 - val_accuracy: 0.9239\n",
            "Epoch 44/100\n",
            "698/698 [==============================] - 54s 77ms/step - loss: 0.0841 - accuracy: 0.9680 - val_loss: 0.3059 - val_accuracy: 0.9236\n",
            "Epoch 45/100\n",
            "698/698 [==============================] - 55s 78ms/step - loss: 0.0840 - accuracy: 0.9679 - val_loss: 0.3081 - val_accuracy: 0.9219\n",
            "Epoch 46/100\n",
            "698/698 [==============================] - 58s 83ms/step - loss: 0.0835 - accuracy: 0.9689 - val_loss: 0.3052 - val_accuracy: 0.9217\n",
            "Epoch 47/100\n",
            "698/698 [==============================] - 57s 81ms/step - loss: 0.0845 - accuracy: 0.9672 - val_loss: 0.3089 - val_accuracy: 0.9242\n",
            "Epoch 48/100\n",
            "698/698 [==============================] - 55s 78ms/step - loss: 0.0808 - accuracy: 0.9685 - val_loss: 0.3166 - val_accuracy: 0.9242\n",
            "Epoch 49/100\n",
            "698/698 [==============================] - 55s 79ms/step - loss: 0.0797 - accuracy: 0.9700 - val_loss: 0.3143 - val_accuracy: 0.9239\n",
            "Epoch 50/100\n",
            "698/698 [==============================] - 57s 82ms/step - loss: 0.0780 - accuracy: 0.9705 - val_loss: 0.3252 - val_accuracy: 0.9227\n",
            "Epoch 51/100\n",
            "698/698 [==============================] - 58s 84ms/step - loss: 0.0790 - accuracy: 0.9699 - val_loss: 0.3311 - val_accuracy: 0.9238\n",
            "Epoch 52/100\n",
            "698/698 [==============================] - 53s 76ms/step - loss: 0.0783 - accuracy: 0.9714 - val_loss: 0.3247 - val_accuracy: 0.9249\n",
            "Epoch 53/100\n",
            "698/698 [==============================] - 55s 79ms/step - loss: 0.0767 - accuracy: 0.9712 - val_loss: 0.3213 - val_accuracy: 0.9207\n",
            "Epoch 54/100\n",
            "698/698 [==============================] - 55s 78ms/step - loss: 0.0746 - accuracy: 0.9714 - val_loss: 0.3213 - val_accuracy: 0.9214\n",
            "Epoch 55/100\n",
            "698/698 [==============================] - 57s 81ms/step - loss: 0.0754 - accuracy: 0.9719 - val_loss: 0.3437 - val_accuracy: 0.9234\n",
            "Epoch 56/100\n",
            "698/698 [==============================] - 56s 80ms/step - loss: 0.0731 - accuracy: 0.9718 - val_loss: 0.3319 - val_accuracy: 0.9230\n",
            "Epoch 57/100\n"
          ],
          "name": "stdout"
        },
        {
          "output_type": "stream",
          "text": [
            "698/698 [==============================] - 54s 77ms/step - loss: 0.0721 - accuracy: 0.9737 - val_loss: 0.3288 - val_accuracy: 0.9233\n",
            "Epoch 58/100\n",
            "698/698 [==============================] - 52s 75ms/step - loss: 0.0715 - accuracy: 0.9727 - val_loss: 0.3344 - val_accuracy: 0.9233\n",
            "Epoch 59/100\n",
            "698/698 [==============================] - 52s 74ms/step - loss: 0.0674 - accuracy: 0.9740 - val_loss: 0.3437 - val_accuracy: 0.9232\n",
            "Epoch 60/100\n",
            "698/698 [==============================] - 52s 75ms/step - loss: 0.0719 - accuracy: 0.9723 - val_loss: 0.3482 - val_accuracy: 0.9228\n",
            "Epoch 61/100\n",
            "698/698 [==============================] - 52s 75ms/step - loss: 0.0710 - accuracy: 0.9739 - val_loss: 0.3504 - val_accuracy: 0.9227\n",
            "Epoch 62/100\n",
            "698/698 [==============================] - 55s 79ms/step - loss: 0.0684 - accuracy: 0.9742 - val_loss: 0.3505 - val_accuracy: 0.9213\n",
            "Epoch 63/100\n",
            "698/698 [==============================] - 53s 76ms/step - loss: 0.0675 - accuracy: 0.9746 - val_loss: 0.3423 - val_accuracy: 0.9224\n",
            "Epoch 64/100\n",
            "698/698 [==============================] - 54s 78ms/step - loss: 0.0688 - accuracy: 0.9741 - val_loss: 0.3632 - val_accuracy: 0.9206\n",
            "Epoch 65/100\n",
            "698/698 [==============================] - 53s 75ms/step - loss: 0.0684 - accuracy: 0.9743 - val_loss: 0.3530 - val_accuracy: 0.9239\n",
            "Epoch 66/100\n",
            "698/698 [==============================] - 60s 85ms/step - loss: 0.0698 - accuracy: 0.9739 - val_loss: 0.3384 - val_accuracy: 0.9231\n",
            "Epoch 67/100\n",
            "698/698 [==============================] - 53s 75ms/step - loss: 0.0653 - accuracy: 0.9747 - val_loss: 0.3578 - val_accuracy: 0.9252\n",
            "Epoch 68/100\n",
            "698/698 [==============================] - 55s 79ms/step - loss: 0.0656 - accuracy: 0.9751 - val_loss: 0.3578 - val_accuracy: 0.9233\n",
            "Epoch 69/100\n",
            "698/698 [==============================] - 53s 76ms/step - loss: 0.0621 - accuracy: 0.9772 - val_loss: 0.3520 - val_accuracy: 0.9236\n",
            "Epoch 70/100\n",
            "698/698 [==============================] - 52s 75ms/step - loss: 0.0655 - accuracy: 0.9745 - val_loss: 0.3389 - val_accuracy: 0.9235\n",
            "Epoch 71/100\n",
            "698/698 [==============================] - 52s 75ms/step - loss: 0.0621 - accuracy: 0.9765 - val_loss: 0.3746 - val_accuracy: 0.9207\n",
            "Epoch 72/100\n",
            "698/698 [==============================] - 53s 75ms/step - loss: 0.0648 - accuracy: 0.9759 - val_loss: 0.3667 - val_accuracy: 0.9222\n",
            "Epoch 73/100\n",
            "698/698 [==============================] - 53s 76ms/step - loss: 0.0669 - accuracy: 0.9752 - val_loss: 0.3731 - val_accuracy: 0.9217\n",
            "Epoch 74/100\n",
            "698/698 [==============================] - 55s 79ms/step - loss: 0.0606 - accuracy: 0.9774 - val_loss: 0.3821 - val_accuracy: 0.9222\n",
            "Epoch 75/100\n",
            "698/698 [==============================] - 53s 75ms/step - loss: 0.0631 - accuracy: 0.9761 - val_loss: 0.3755 - val_accuracy: 0.9218\n",
            "Epoch 76/100\n",
            "698/698 [==============================] - 53s 75ms/step - loss: 0.0654 - accuracy: 0.9759 - val_loss: 0.3582 - val_accuracy: 0.9190\n",
            "Epoch 77/100\n",
            "698/698 [==============================] - 53s 76ms/step - loss: 0.0610 - accuracy: 0.9776 - val_loss: 0.3717 - val_accuracy: 0.9249\n",
            "Epoch 78/100\n",
            "698/698 [==============================] - 54s 78ms/step - loss: 0.0587 - accuracy: 0.9781 - val_loss: 0.3832 - val_accuracy: 0.9239\n",
            "Epoch 79/100\n",
            "698/698 [==============================] - 55s 79ms/step - loss: 0.0609 - accuracy: 0.9776 - val_loss: 0.3785 - val_accuracy: 0.9230\n",
            "Epoch 80/100\n",
            "698/698 [==============================] - 58s 84ms/step - loss: 0.0603 - accuracy: 0.9776 - val_loss: 0.3709 - val_accuracy: 0.9224\n",
            "Epoch 81/100\n",
            "698/698 [==============================] - 54s 77ms/step - loss: 0.0599 - accuracy: 0.9775 - val_loss: 0.3821 - val_accuracy: 0.9268\n",
            "Epoch 82/100\n",
            "698/698 [==============================] - 53s 76ms/step - loss: 0.0580 - accuracy: 0.9783 - val_loss: 0.3783 - val_accuracy: 0.9243\n",
            "Epoch 83/100\n",
            "698/698 [==============================] - 54s 77ms/step - loss: 0.0602 - accuracy: 0.9776 - val_loss: 0.3668 - val_accuracy: 0.9227\n",
            "Epoch 84/100\n",
            "698/698 [==============================] - 53s 75ms/step - loss: 0.0576 - accuracy: 0.9786 - val_loss: 0.3966 - val_accuracy: 0.9214\n",
            "Epoch 85/100\n",
            "698/698 [==============================] - 53s 75ms/step - loss: 0.0581 - accuracy: 0.9781 - val_loss: 0.4058 - val_accuracy: 0.9221\n",
            "Epoch 86/100\n",
            "698/698 [==============================] - 53s 75ms/step - loss: 0.0593 - accuracy: 0.9784 - val_loss: 0.4010 - val_accuracy: 0.9215\n",
            "Epoch 87/100\n",
            "698/698 [==============================] - 52s 75ms/step - loss: 0.0585 - accuracy: 0.9787 - val_loss: 0.3997 - val_accuracy: 0.9235\n",
            "Epoch 88/100\n",
            "698/698 [==============================] - 53s 76ms/step - loss: 0.0580 - accuracy: 0.9786 - val_loss: 0.3910 - val_accuracy: 0.9241\n",
            "Epoch 89/100\n",
            "698/698 [==============================] - 53s 76ms/step - loss: 0.0541 - accuracy: 0.9800 - val_loss: 0.3672 - val_accuracy: 0.9256\n",
            "Epoch 90/100\n",
            "698/698 [==============================] - 53s 76ms/step - loss: 0.0578 - accuracy: 0.9781 - val_loss: 0.3926 - val_accuracy: 0.9201\n",
            "Epoch 91/100\n",
            "698/698 [==============================] - 53s 76ms/step - loss: 0.0573 - accuracy: 0.9790 - val_loss: 0.3871 - val_accuracy: 0.9233\n",
            "Epoch 92/100\n",
            "698/698 [==============================] - 53s 77ms/step - loss: 0.0557 - accuracy: 0.9795 - val_loss: 0.3917 - val_accuracy: 0.9241\n",
            "Epoch 93/100\n",
            "698/698 [==============================] - 54s 77ms/step - loss: 0.0548 - accuracy: 0.9799 - val_loss: 0.3940 - val_accuracy: 0.9213\n",
            "Epoch 94/100\n",
            "698/698 [==============================] - 53s 76ms/step - loss: 0.0560 - accuracy: 0.9798 - val_loss: 0.4000 - val_accuracy: 0.9235\n",
            "Epoch 95/100\n",
            "698/698 [==============================] - 53s 76ms/step - loss: 0.0552 - accuracy: 0.9792 - val_loss: 0.3929 - val_accuracy: 0.9220\n",
            "Epoch 96/100\n",
            "698/698 [==============================] - 55s 79ms/step - loss: 0.0566 - accuracy: 0.9795 - val_loss: 0.4045 - val_accuracy: 0.9229\n",
            "Epoch 97/100\n",
            "698/698 [==============================] - 55s 78ms/step - loss: 0.0527 - accuracy: 0.9808 - val_loss: 0.4094 - val_accuracy: 0.9241\n",
            "Epoch 98/100\n",
            "698/698 [==============================] - 53s 77ms/step - loss: 0.0543 - accuracy: 0.9803 - val_loss: 0.4180 - val_accuracy: 0.9224\n",
            "Epoch 99/100\n",
            "698/698 [==============================] - 53s 77ms/step - loss: 0.0561 - accuracy: 0.9791 - val_loss: 0.4034 - val_accuracy: 0.9216\n",
            "Epoch 100/100\n",
            "698/698 [==============================] - 53s 77ms/step - loss: 0.0540 - accuracy: 0.9809 - val_loss: 0.4200 - val_accuracy: 0.9218\n"
          ],
          "name": "stdout"
        }
      ]
    },
    {
      "cell_type": "code",
      "metadata": {
        "id": "5028c4b1",
        "outputId": "53141221-c511-4bc8-aa9d-f5069d65dbef"
      },
      "source": [
        "plt.subplot(231)\n",
        "random_num = np.random.randint(0,len(x_train))\n",
        "plt.imshow(x_train[random_num], cmap=plt.get_cmap('gray'))\n",
        "plt.show()"
      ],
      "id": "5028c4b1",
      "execution_count": null,
      "outputs": [
        {
          "output_type": "display_data",
          "data": {
            "image/png": "[encoded data removed]",
            "text/plain": [
              "<Figure size 432x288 with 1 Axes>"
            ]
          },
          "metadata": {
            "tags": [],
            "needs_background": "light"
          }
        }
      ]
    },
    {
      "cell_type": "code",
      "metadata": {
        "scrolled": true,
        "id": "a97f5ae0",
        "outputId": "b47a8181-e5ab-43f9-c736-c11ff1cdc269"
      },
      "source": [
        "#Predict the test results\n",
        "rounded_predictions = classifier.predict_classes(x_test)\n",
        "rounded_predictions[1]\n",
        "\n",
        "y_test[1]\n",
        "import numpy as np\n",
        "rounded_labels=np.argmax(y_test, axis=1)\n",
        "rounded_labels[1]\n",
        "\n",
        "#confusion matrix and classification report\n",
        "print('Confusion Matrix :\\n',confusion_matrix(rounded_labels, rounded_predictions))\n",
        "print('\\n')\n",
        "print('Classification Report :\\n',classification_report(rounded_labels, rounded_predictions))\n",
        "print('\\n')\n",
        "print('Accuracy : ' ,accuracy_score(rounded_labels, rounded_predictions)*100)"
      ],
      "id": "a97f5ae0",
      "execution_count": null,
      "outputs": [
        {
          "output_type": "stream",
          "text": [
            "WARNING:tensorflow:From <ipython-input-6-fdb8036ab5c9>:2: Sequential.predict_classes (from tensorflow.python.keras.engine.sequential) is deprecated and will be removed after 2021-01-01.\n",
            "Instructions for updating:\n",
            "Please use instead:* `np.argmax(model.predict(x), axis=-1)`,   if your model does multi-class classification   (e.g. if it uses a `softmax` last-layer activation).* `(model.predict(x) > 0.5).astype(\"int32\")`,   if your model does binary classification   (e.g. if it uses a `sigmoid` last-layer activation).\n",
            "Confusion Matrix :\n",
            " [[890   0  15  18   3   1  69   0   4   0]\n",
            " [  0 982   1  11   3   0   1   0   2   0]\n",
            " [ 17   0 887  11  39   0  46   0   0   0]\n",
            " [ 12   4   8 935  23   0  17   0   1   0]\n",
            " [  1   1  77  24 858   0  38   0   1   0]\n",
            " [  0   0   0   0   0 975   0  18   0   7]\n",
            " [101   2  55  21  56   0 757   0   8   0]\n",
            " [  0   0   0   0   0   0   0 987   0  13]\n",
            " [  1   1   0   7   0   2   4   4 981   0]\n",
            " [  0   0   0   0   0   3   1  30   0 966]]\n",
            "\n",
            "\n",
            "Classification Report :\n",
            "               precision    recall  f1-score   support\n",
            "\n",
            "           0       0.87      0.89      0.88      1000\n",
            "           1       0.99      0.98      0.99      1000\n",
            "           2       0.85      0.89      0.87      1000\n",
            "           3       0.91      0.94      0.92      1000\n",
            "           4       0.87      0.86      0.87      1000\n",
            "           5       0.99      0.97      0.98      1000\n",
            "           6       0.81      0.76      0.78      1000\n",
            "           7       0.95      0.99      0.97      1000\n",
            "           8       0.98      0.98      0.98      1000\n",
            "           9       0.98      0.97      0.97      1000\n",
            "\n",
            "    accuracy                           0.92     10000\n",
            "   macro avg       0.92      0.92      0.92     10000\n",
            "weighted avg       0.92      0.92      0.92     10000\n",
            "\n",
            "\n",
            "\n",
            "Accuracy :  92.17999999999999\n"
          ],
          "name": "stdout"
        }
      ]
    },
    {
      "cell_type": "code",
      "metadata": {
        "id": "e2a9cb04",
        "outputId": "525a66d2-0750-4c45-8f8a-80cbeeb592db"
      },
      "source": [
        "loss, acc = classifier.evaluate(x_test, y_test, verbose=0)\n",
        "print('Accuracy: %.3f' % acc)\n",
        "classifier.save('classificationAvecMatrix.h5')"
      ],
      "id": "e2a9cb04",
      "execution_count": null,
      "outputs": [
        {
          "output_type": "stream",
          "text": [
            "Accuracy: 0.922\n"
          ],
          "name": "stdout"
        }
      ]
    },
    {
      "cell_type": "code",
      "metadata": {
        "id": "8f786946"
      },
      "source": [
        "datagen = ImageDataGenerator(\n",
        "        featurewise_center=False,  # set input mean to 0 over the dataset\n",
        "        samplewise_center=False,  # set each sample mean to 0\n",
        "        featurewise_std_normalization=False,  # divide inputs by std of the dataset\n",
        "        samplewise_std_normalization=False,  # divide each input by its std\n",
        "        zca_whitening=False,  # apply ZCA whitening\n",
        "        rotation_range=10,  # randomly rotate images in the range (degrees, 0 to 180)\n",
        "        zoom_range = 0.1, # Randomly zoom image \n",
        "        width_shift_range=0.1,  # randomly shift images horizontally (fraction of total width)\n",
        "        height_shift_range=0.1,  # randomly shift images vertically (fraction of total height)\n",
        "        horizontal_flip=False,  # randomly flip images\n",
        "        vertical_flip=False)  # randomly flip images\n",
        "\n",
        "batches = datagen.flow(x_train, y_train, batch_size=64)"
      ],
      "id": "8f786946",
      "execution_count": null,
      "outputs": []
    },
    {
      "cell_type": "code",
      "metadata": {
        "id": "9b7ff842",
        "outputId": "e586d22e-3547-4d0f-a847-e7ee9b419e7f"
      },
      "source": [
        "classifier.fit(batches, steps_per_epoch = len(x_train)//64, epochs=100,\n",
        "                      use_multiprocessing=False)"
      ],
      "id": "9b7ff842",
      "execution_count": null,
      "outputs": [
        {
          "output_type": "stream",
          "text": [
            "Epoch 1/100\n",
            "937/937 [==============================] - 91s 97ms/step - loss: 0.7185 - accuracy: 0.7437\n",
            "Epoch 2/100\n",
            "937/937 [==============================] - 86s 92ms/step - loss: 0.5857 - accuracy: 0.7839\n",
            "Epoch 3/100\n",
            "937/937 [==============================] - 84s 90ms/step - loss: 0.5468 - accuracy: 0.7981\n",
            "Epoch 4/100\n",
            "937/937 [==============================] - 59s 63ms/step - loss: 0.5286 - accuracy: 0.8043\n",
            "Epoch 5/100\n",
            "937/937 [==============================] - 59s 63ms/step - loss: 0.5066 - accuracy: 0.8105\n",
            "Epoch 6/100\n",
            "937/937 [==============================] - 55s 59ms/step - loss: 0.4942 - accuracy: 0.8158\n",
            "Epoch 7/100\n",
            "937/937 [==============================] - 59s 63ms/step - loss: 0.4811 - accuracy: 0.8218\n",
            "Epoch 8/100\n",
            "937/937 [==============================] - 56s 60ms/step - loss: 0.4708 - accuracy: 0.8251\n",
            "Epoch 9/100\n",
            "937/937 [==============================] - 57s 61ms/step - loss: 0.4674 - accuracy: 0.8256\n",
            "Epoch 10/100\n",
            "937/937 [==============================] - 56s 60ms/step - loss: 0.4584 - accuracy: 0.8287\n",
            "Epoch 11/100\n",
            "937/937 [==============================] - 56s 59ms/step - loss: 0.4550 - accuracy: 0.8298\n",
            "Epoch 12/100\n",
            "937/937 [==============================] - 56s 60ms/step - loss: 0.4492 - accuracy: 0.8331\n",
            "Epoch 13/100\n",
            "937/937 [==============================] - 58s 62ms/step - loss: 0.4461 - accuracy: 0.8332\n",
            "Epoch 14/100\n",
            "937/937 [==============================] - 63s 68ms/step - loss: 0.4393 - accuracy: 0.8360\n",
            "Epoch 15/100\n",
            "937/937 [==============================] - 57s 61ms/step - loss: 0.4353 - accuracy: 0.8387\n",
            "Epoch 16/100\n",
            "937/937 [==============================] - 55s 59ms/step - loss: 0.4360 - accuracy: 0.8377\n",
            "Epoch 17/100\n",
            "937/937 [==============================] - 61s 65ms/step - loss: 0.4315 - accuracy: 0.8385\n",
            "Epoch 18/100\n",
            "937/937 [==============================] - 65s 69ms/step - loss: 0.4259 - accuracy: 0.8434\n",
            "Epoch 19/100\n",
            "937/937 [==============================] - 60s 64ms/step - loss: 0.4280 - accuracy: 0.8418\n",
            "Epoch 20/100\n",
            "937/937 [==============================] - 58s 62ms/step - loss: 0.4198 - accuracy: 0.8438\n",
            "Epoch 21/100\n",
            "937/937 [==============================] - 58s 62ms/step - loss: 0.4214 - accuracy: 0.8428\n",
            "Epoch 22/100\n",
            "937/937 [==============================] - 70s 75ms/step - loss: 0.4169 - accuracy: 0.8469\n",
            "Epoch 23/100\n",
            "937/937 [==============================] - 59s 63ms/step - loss: 0.4149 - accuracy: 0.8475\n",
            "Epoch 24/100\n",
            "937/937 [==============================] - 57s 61ms/step - loss: 0.4131 - accuracy: 0.8468\n",
            "Epoch 25/100\n",
            "937/937 [==============================] - 58s 62ms/step - loss: 0.4111 - accuracy: 0.8473\n",
            "Epoch 26/100\n",
            "937/937 [==============================] - 59s 63ms/step - loss: 0.4086 - accuracy: 0.8476\n",
            "Epoch 27/100\n",
            "937/937 [==============================] - 58s 62ms/step - loss: 0.4091 - accuracy: 0.8482\n",
            "Epoch 28/100\n",
            "937/937 [==============================] - 61s 65ms/step - loss: 0.4065 - accuracy: 0.8493\n",
            "Epoch 29/100\n",
            "937/937 [==============================] - 64s 68ms/step - loss: 0.4082 - accuracy: 0.8483\n",
            "Epoch 30/100\n",
            "937/937 [==============================] - 67s 71ms/step - loss: 0.4064 - accuracy: 0.8499\n",
            "Epoch 31/100\n",
            "937/937 [==============================] - 67s 71ms/step - loss: 0.4000 - accuracy: 0.8513\n",
            "Epoch 32/100\n",
            "937/937 [==============================] - 64s 69ms/step - loss: 0.3991 - accuracy: 0.8516\n",
            "Epoch 33/100\n",
            "937/937 [==============================] - 73s 78ms/step - loss: 0.3966 - accuracy: 0.8527\n",
            "Epoch 34/100\n",
            "937/937 [==============================] - 69s 74ms/step - loss: 0.4027 - accuracy: 0.8491\n",
            "Epoch 35/100\n",
            "937/937 [==============================] - 65s 69ms/step - loss: 0.3946 - accuracy: 0.8536\n",
            "Epoch 36/100\n",
            "937/937 [==============================] - 65s 69ms/step - loss: 0.3922 - accuracy: 0.8534\n",
            "Epoch 37/100\n",
            "937/937 [==============================] - 65s 69ms/step - loss: 0.3945 - accuracy: 0.8544\n",
            "Epoch 38/100\n",
            "937/937 [==============================] - 66s 71ms/step - loss: 0.3894 - accuracy: 0.8546\n",
            "Epoch 39/100\n",
            "937/937 [==============================] - 66s 70ms/step - loss: 0.3882 - accuracy: 0.8573\n",
            "Epoch 40/100\n",
            "937/937 [==============================] - 64s 68ms/step - loss: 0.3891 - accuracy: 0.8557\n",
            "Epoch 41/100\n",
            "937/937 [==============================] - 65s 69ms/step - loss: 0.3896 - accuracy: 0.8558\n",
            "Epoch 42/100\n",
            "937/937 [==============================] - 64s 69ms/step - loss: 0.3893 - accuracy: 0.8566\n",
            "Epoch 43/100\n",
            "937/937 [==============================] - 62s 67ms/step - loss: 0.3926 - accuracy: 0.8546\n",
            "Epoch 44/100\n",
            "937/937 [==============================] - 65s 69ms/step - loss: 0.3854 - accuracy: 0.8576\n",
            "Epoch 45/100\n",
            "937/937 [==============================] - 64s 68ms/step - loss: 0.3857 - accuracy: 0.8564\n",
            "Epoch 46/100\n",
            "937/937 [==============================] - 61s 65ms/step - loss: 0.3826 - accuracy: 0.8584\n",
            "Epoch 47/100\n",
            "937/937 [==============================] - 57s 60ms/step - loss: 0.3865 - accuracy: 0.8547\n",
            "Epoch 48/100\n",
            "937/937 [==============================] - 60s 64ms/step - loss: 0.3823 - accuracy: 0.8569\n",
            "Epoch 49/100\n",
            "937/937 [==============================] - 61s 65ms/step - loss: 0.3827 - accuracy: 0.8578\n",
            "Epoch 50/100\n",
            "937/937 [==============================] - 56s 60ms/step - loss: 0.3818 - accuracy: 0.8556\n",
            "Epoch 51/100\n",
            "937/937 [==============================] - 57s 60ms/step - loss: 0.3819 - accuracy: 0.8567\n",
            "Epoch 52/100\n",
            "937/937 [==============================] - 61s 65ms/step - loss: 0.3798 - accuracy: 0.8586\n",
            "Epoch 53/100\n",
            "937/937 [==============================] - 58s 62ms/step - loss: 0.3854 - accuracy: 0.8567\n",
            "Epoch 54/100\n",
            "937/937 [==============================] - 61s 65ms/step - loss: 0.3800 - accuracy: 0.85940s - loss: 0.3799 - \n",
            "Epoch 55/100\n",
            "937/937 [==============================] - 55s 59ms/step - loss: 0.3766 - accuracy: 0.8614\n",
            "Epoch 56/100\n",
            "937/937 [==============================] - 54s 58ms/step - loss: 0.3786 - accuracy: 0.8585\n",
            "Epoch 57/100\n",
            "937/937 [==============================] - 55s 58ms/step - loss: 0.3799 - accuracy: 0.8604\n",
            "Epoch 58/100\n",
            "937/937 [==============================] - 54s 58ms/step - loss: 0.3757 - accuracy: 0.8598\n",
            "Epoch 59/100\n",
            "937/937 [==============================] - 56s 60ms/step - loss: 0.3744 - accuracy: 0.8611\n",
            "Epoch 60/100\n",
            "937/937 [==============================] - 56s 60ms/step - loss: 0.3751 - accuracy: 0.8602\n",
            "Epoch 61/100\n",
            "937/937 [==============================] - 55s 59ms/step - loss: 0.3761 - accuracy: 0.86000s - loss: 0.3\n",
            "Epoch 62/100\n",
            "937/937 [==============================] - 56s 59ms/step - loss: 0.3760 - accuracy: 0.8608\n",
            "Epoch 63/100\n",
            "937/937 [==============================] - 60s 64ms/step - loss: 0.3758 - accuracy: 0.8600\n",
            "Epoch 64/100\n",
            "937/937 [==============================] - 60s 64ms/step - loss: 0.3747 - accuracy: 0.8609\n",
            "Epoch 65/100\n",
            "937/937 [==============================] - 55s 58ms/step - loss: 0.3773 - accuracy: 0.8609\n",
            "Epoch 66/100\n",
            "937/937 [==============================] - 63s 67ms/step - loss: 0.3722 - accuracy: 0.8627\n",
            "Epoch 67/100\n",
            "937/937 [==============================] - 65s 69ms/step - loss: 0.3718 - accuracy: 0.8621\n",
            "Epoch 68/100\n",
            "937/937 [==============================] - 53s 57ms/step - loss: 0.3720 - accuracy: 0.8617\n",
            "Epoch 69/100\n",
            "937/937 [==============================] - 61s 65ms/step - loss: 0.3747 - accuracy: 0.8603\n",
            "Epoch 70/100\n",
            "937/937 [==============================] - 61s 65ms/step - loss: 0.3710 - accuracy: 0.8615\n",
            "Epoch 71/100\n",
            "937/937 [==============================] - 59s 63ms/step - loss: 0.3687 - accuracy: 0.8623\n",
            "Epoch 72/100\n",
            "937/937 [==============================] - 58s 62ms/step - loss: 0.3733 - accuracy: 0.8594\n",
            "Epoch 73/100\n",
            "937/937 [==============================] - 57s 60ms/step - loss: 0.3719 - accuracy: 0.8634\n",
            "Epoch 74/100\n",
            "937/937 [==============================] - 63s 67ms/step - loss: 0.3720 - accuracy: 0.8623\n",
            "Epoch 75/100\n",
            "937/937 [==============================] - 60s 64ms/step - loss: 0.3658 - accuracy: 0.8649\n",
            "Epoch 76/100\n",
            "937/937 [==============================] - 62s 66ms/step - loss: 0.3714 - accuracy: 0.8624\n",
            "Epoch 77/100\n",
            "937/937 [==============================] - 61s 65ms/step - loss: 0.3683 - accuracy: 0.8629\n",
            "Epoch 78/100\n",
            "937/937 [==============================] - 57s 61ms/step - loss: 0.3690 - accuracy: 0.8640\n",
            "Epoch 79/100\n"
          ],
          "name": "stdout"
        },
        {
          "output_type": "stream",
          "text": [
            "937/937 [==============================] - 57s 61ms/step - loss: 0.3665 - accuracy: 0.8649\n",
            "Epoch 80/100\n",
            "937/937 [==============================] - 54s 58ms/step - loss: 0.3640 - accuracy: 0.8657\n",
            "Epoch 81/100\n",
            "937/937 [==============================] - 60s 64ms/step - loss: 0.3654 - accuracy: 0.8659\n",
            "Epoch 82/100\n",
            "937/937 [==============================] - 58s 62ms/step - loss: 0.3658 - accuracy: 0.8646\n",
            "Epoch 83/100\n",
            "937/937 [==============================] - 55s 59ms/step - loss: 0.3678 - accuracy: 0.8638\n",
            "Epoch 84/100\n",
            "937/937 [==============================] - 54s 58ms/step - loss: 0.3675 - accuracy: 0.8634\n",
            "Epoch 85/100\n",
            "937/937 [==============================] - 59s 63ms/step - loss: 0.3621 - accuracy: 0.8648\n",
            "Epoch 86/100\n",
            "937/937 [==============================] - 55s 58ms/step - loss: 0.3623 - accuracy: 0.8648\n",
            "Epoch 87/100\n",
            "937/937 [==============================] - 60s 64ms/step - loss: 0.3619 - accuracy: 0.8655\n",
            "Epoch 88/100\n",
            "937/937 [==============================] - 58s 62ms/step - loss: 0.3645 - accuracy: 0.8636\n",
            "Epoch 89/100\n",
            "937/937 [==============================] - 58s 62ms/step - loss: 0.3678 - accuracy: 0.8648\n",
            "Epoch 90/100\n",
            "937/937 [==============================] - 54s 58ms/step - loss: 0.3622 - accuracy: 0.8667\n",
            "Epoch 91/100\n",
            "937/937 [==============================] - 56s 60ms/step - loss: 0.3642 - accuracy: 0.8649\n",
            "Epoch 92/100\n",
            "937/937 [==============================] - 56s 60ms/step - loss: 0.3621 - accuracy: 0.8658\n",
            "Epoch 93/100\n",
            "937/937 [==============================] - 61s 65ms/step - loss: 0.3623 - accuracy: 0.8672\n",
            "Epoch 94/100\n",
            "937/937 [==============================] - 60s 64ms/step - loss: 0.3622 - accuracy: 0.8653\n",
            "Epoch 95/100\n",
            "937/937 [==============================] - 62s 66ms/step - loss: 0.3627 - accuracy: 0.8638\n",
            "Epoch 96/100\n",
            "937/937 [==============================] - 61s 65ms/step - loss: 0.3622 - accuracy: 0.8646\n",
            "Epoch 97/100\n",
            "937/937 [==============================] - 60s 65ms/step - loss: 0.3612 - accuracy: 0.8672\n",
            "Epoch 98/100\n",
            "937/937 [==============================] - 61s 65ms/step - loss: 0.3613 - accuracy: 0.8649\n",
            "Epoch 99/100\n",
            "937/937 [==============================] - 62s 66ms/step - loss: 0.3649 - accuracy: 0.8636\n",
            "Epoch 100/100\n",
            "937/937 [==============================] - 60s 64ms/step - loss: 0.3591 - accuracy: 0.8667\n"
          ],
          "name": "stdout"
        },
        {
          "output_type": "execute_result",
          "data": {
            "text/plain": [
              "<tensorflow.python.keras.callbacks.History at 0x2670fdae3a0>"
            ]
          },
          "metadata": {
            "tags": []
          },
          "execution_count": 9
        }
      ]
    },
    {
      "cell_type": "code",
      "metadata": {
        "id": "94e1dcf4",
        "outputId": "af3a78d2-6d59-4a79-80e4-ab03f805337c"
      },
      "source": [
        "loss, acc = classifier.evaluate(x_test, y_test, verbose=0)\n",
        "print('Accuracy: %.3f' % acc)"
      ],
      "id": "94e1dcf4",
      "execution_count": null,
      "outputs": [
        {
          "output_type": "stream",
          "text": [
            "Accuracy: 0.900\n"
          ],
          "name": "stdout"
        }
      ]
    },
    {
      "cell_type": "code",
      "metadata": {
        "id": "52eb381f"
      },
      "source": [
        "classifier.save('classifierAugmentationAvecMatrix.h5')"
      ],
      "id": "52eb381f",
      "execution_count": null,
      "outputs": []
    },
    {
      "cell_type": "markdown",
      "metadata": {
        "id": "40fe528e"
      },
      "source": [
        "# TESTE 1 AVEC \"LOAD_IMAGE\"\n"
      ],
      "id": "40fe528e"
    },
    {
      "cell_type": "code",
      "metadata": {
        "id": "a3ca3f58"
      },
      "source": [
        "def plot_image(prediction, img):\n",
        "    plt.xticks([])\n",
        "    plt.yticks([])\n",
        "    plt.imshow(img, cmap=plt.cm.binary)\n",
        "    predicted_label = np.argmax(prediction,axis = -1)\n",
        "    plt.xlabel(\"{} {:2.0f}%\".format(class_names[predicted_label],\n",
        "               100*np.max(prediction),\n",
        "               ),\n",
        "                color=\"blue\")\n",
        "    \n",
        "def plot_value_array(prediction):\n",
        "    plt.xticks(range(10))\n",
        "    plt.yticks([])\n",
        "    thisplot = plt.bar(range(10), prediction, color=\"red\")\n",
        "    plt.ylim([0,1])\n",
        "    predicted_label = np.argmax(prediction)\n",
        "    thisplot[predicted_label].set_color('blue')"
      ],
      "id": "a3ca3f58",
      "execution_count": null,
      "outputs": []
    },
    {
      "cell_type": "code",
      "metadata": {
        "id": "7852d32d",
        "outputId": "79a3d9a1-8676-48fd-bece-09723bfa3368"
      },
      "source": [
        "# Function to load and prepare the image in right shape\n",
        "def load_image(filename):\n",
        "    # Load the image\n",
        "    img = load_img(filename, color_mode = \"grayscale\", target_size=(28, 28))\n",
        "    # Convert the image to array\n",
        "    img = img_to_array(img)\n",
        "    # Reshape the image into a sample of 1 channel\n",
        "    img = img.reshape(1, 28, 28, 1)\n",
        "    # Prepare it as pixel data\n",
        "    img = img.astype('float32')\n",
        "    img = img / 255.0\n",
        "    return img\n",
        "\n",
        "# Load an image and predict the apparel class\n",
        "img = load_image('./ClassificationDimagesPageWeb/static/images/basquette.jpg')\n",
        "# Load the saved model\n",
        "classifier = load_model('classificationAvecMatrix.h5')\n",
        "# Predict the apparel class\n",
        "class_prediction = classifier.predict_classes(img)\n",
        "print(class_prediction[0])\n",
        "\n",
        "#Map apparel category with the numerical class\n",
        "if class_prediction[0] == 0:\n",
        "  product = \"T-shirt/top\"\n",
        "elif class_prediction[0] == 1:\n",
        "  product = \"Trouser\"\n",
        "elif class_prediction[0] == 2:\n",
        "  product = \"Pullover\"\n",
        "elif class_prediction[0] == 3:\n",
        "  product = \"Dress\"\n",
        "elif class_prediction[0] == 4:\n",
        "  product = \"Coat\"\n",
        "elif class_prediction[0] == 5:\n",
        "  product = \"Sandal\"\n",
        "elif class_prediction[0] == 6:\n",
        "  product = \"Shirt\"\n",
        "elif class_prediction[0] == 7:\n",
        "  product = \"Sneaker\"\n",
        "elif class_prediction[0] == 8:\n",
        "  product = \"Bag\"\n",
        "else:\n",
        "  product = \"Ankle boot\"\n",
        "\n",
        "print(product)\n"
      ],
      "id": "7852d32d",
      "execution_count": null,
      "outputs": [
        {
          "output_type": "stream",
          "text": [
            "WARNING:tensorflow:7 out of the last 11 calls to <function Model.make_predict_function.<locals>.predict_function at 0x000002672D0DBEE0> triggered tf.function retracing. Tracing is expensive and the excessive number of tracings could be due to (1) creating @tf.function repeatedly in a loop, (2) passing tensors with different shapes, (3) passing Python objects instead of tensors. For (1), please define your @tf.function outside of the loop. For (2), @tf.function has experimental_relax_shapes=True option that relaxes argument shapes that can avoid unnecessary retracing. For (3), please refer to https://www.tensorflow.org/tutorials/customization/performance#python_or_tensor_args and https://www.tensorflow.org/api_docs/python/tf/function for  more details.\n",
            "7\n",
            "Sneaker\n"
          ],
          "name": "stdout"
        }
      ]
    },
    {
      "cell_type": "code",
      "metadata": {
        "id": "bdddb851"
      },
      "source": [
        "preds = classifier.predict(img)"
      ],
      "id": "bdddb851",
      "execution_count": null,
      "outputs": []
    },
    {
      "cell_type": "code",
      "metadata": {
        "id": "9cd28fd5",
        "outputId": "799e28a4-0a0a-4137-daa5-d11ef9b01976"
      },
      "source": [
        "for i in range(1):\n",
        "    # image\n",
        "    plt.subplot(1, 2, 2*i+1)\n",
        "    plot_image(preds[i], img[i])\n",
        "    # bar chart\n",
        "    plt.subplot(1, 2, 2*i+2)\n",
        "    plot_value_array(preds[i])\n",
        "plt.show()"
      ],
      "id": "9cd28fd5",
      "execution_count": null,
      "outputs": [
        {
          "output_type": "display_data",
          "data": {
            "image/png": "[encoded data removed]",
            "text/plain": [
              "<Figure size 432x288 with 2 Axes>"
            ]
          },
          "metadata": {
            "tags": [],
            "needs_background": "light"
          }
        }
      ]
    }
  ]
}